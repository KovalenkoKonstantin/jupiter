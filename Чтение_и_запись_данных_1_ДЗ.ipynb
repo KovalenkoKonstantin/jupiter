{
 "cells": [
  {
   "cell_type": "markdown",
   "metadata": {
    "id": "15qs2Elo9J2Z"
   },
   "source": [
    "# Чтение и запись данных, часть 1\n",
    "\n",
    "## Домашнее задание\n",
    "\n",
    "### Описание домашнего задания и формат сдачи\n",
    "\n",
    "Выполните предложенные задачи — впишите свой код в ячейки после комментария `### YOUR CODE HERE ###` и сохраните изменения, используя опцию *Save and Checkpoint* из вкладки меню *File* или кнопку *Save and Checkpoint* на панели инструментов. Итоговый файл в формате `.ipynb` (файл Jupyter Notebook) загрузите в личный кабинет и отправьте на проверку."
   ]
  },
  {
   "cell_type": "markdown",
   "metadata": {
    "id": "0cwH7i-m9J2d"
   },
   "source": [
    "### Задача 1\n",
    "\n",
    "Загрузите содержимое файла `Homework1.csv` в DataFrame и выведите первые пять строк на экран. В следующей ячейке посчитайте среднее значение температуры (столбец `Temperature`) и выведите её на экран."
   ]
  },
  {
   "cell_type": "markdown",
   "metadata": {
    "id": "HCQA4Thv32Js"
   },
   "source": []
  },
  {
   "cell_type": "code",
   "execution_count": 1,
   "metadata": {
    "id": "umL48no79J2a"
   },
   "outputs": [],
   "source": [
    "import pandas as pd\n",
    "from matplotlib import pyplot as plt"
   ]
  },
  {
   "cell_type": "code",
   "execution_count": 3,
   "metadata": {
    "id": "sQsNnb4s9J2e"
   },
   "outputs": [
    {
     "name": "stdout",
     "output_type": "stream",
     "text": [
      "      id        Date           City  Temperature\n",
      "0  32208  01.01.2012  New York City         47.4\n",
      "1  32209  02.01.2012  New York City         42.9\n",
      "2  32210  03.01.2012  New York City         29.8\n",
      "3  32211  04.01.2012  New York City         19.1\n",
      "4  32212  05.01.2012  New York City         31.7\n"
     ]
    }
   ],
   "source": [
    "df = pd.read_csv('Homework1.csv')\n",
    "print(df.head())"
   ]
  },
  {
   "cell_type": "code",
   "execution_count": 4,
   "metadata": {
    "id": "gQFk78sfA27L"
   },
   "outputs": [
    {
     "name": "stdout",
     "output_type": "stream",
     "text": [
      "58.068579234972674\n"
     ]
    }
   ],
   "source": [
    "print(df['Temperature'].mean())"
   ]
  },
  {
   "cell_type": "markdown",
   "metadata": {
    "id": "AnxMpuTt9J2j"
   },
   "source": [
    "### Задача 2\n",
    "\n",
    "Сохраните DataFrame из предыдущей задачи в файл `result1.csv`, в качестве разделителя используйте запятую `,`, а в качестве названия столбца-индекса — `index`."
   ]
  },
  {
   "cell_type": "code",
   "execution_count": 5,
   "metadata": {
    "id": "5IT4cBRr9J2j"
   },
   "outputs": [],
   "source": [
    "df.to_csv('result1.csv', sep=',', index_label='index')"
   ]
  },
  {
   "cell_type": "markdown",
   "metadata": {
    "id": "ZDKXJ3Bk9J2m"
   },
   "source": [
    "### Задача 3\n",
    "\n",
    "Загрузите содержимое файла `Homework1.csv` в DataFrame, при этом отформатируйте столбец с датой (`Date`) и приведите его к стандартизированному виду. Выведите первые пять строк DataFrame на экран."
   ]
  },
  {
   "cell_type": "code",
   "execution_count": 6,
   "metadata": {
    "id": "yXMTcLtU9J2m"
   },
   "outputs": [
    {
     "name": "stdout",
     "output_type": "stream",
     "text": [
      "      id       Date           City  Temperature\n",
      "0  32208 2012-01-01  New York City         47.4\n",
      "1  32209 2012-01-02  New York City         42.9\n",
      "2  32210 2012-01-03  New York City         29.8\n",
      "3  32211 2012-01-04  New York City         19.1\n",
      "4  32212 2012-01-05  New York City         31.7\n"
     ]
    }
   ],
   "source": [
    "df = pd.read_csv('Homework1.csv', parse_dates=['Date'], dayfirst=True)\n",
    "print(df.head(5))"
   ]
  },
  {
   "cell_type": "markdown",
   "metadata": {
    "id": "azlN6qCH9J2o"
   },
   "source": [
    "### Задача 4\n",
    "\n",
    "Сохраните DataFrame из предыдущей задачи в файл `result2.xlsx`."
   ]
  },
  {
   "cell_type": "code",
   "execution_count": 7,
   "metadata": {
    "id": "FxG6Ykjw9J2p"
   },
   "outputs": [],
   "source": [
    "df.to_excel('result2.xlsx')"
   ]
  },
  {
   "cell_type": "markdown",
   "metadata": {
    "id": "s5kL1jOp9J2r"
   },
   "source": [
    "### Задача 5\n",
    "\n",
    "Загрузите содержимое файла `Homework2.csv` в DataFrame, укажите правильный разделитель столбцов, отформатируйте столбец с датой (`Date`) и приведите его к стандартизированному виду. Выведите первые пять строк DataFrame на экран."
   ]
  },
  {
   "cell_type": "code",
   "execution_count": 8,
   "metadata": {
    "id": "l4C2wTYW9J2s"
   },
   "outputs": [
    {
     "name": "stdout",
     "output_type": "stream",
     "text": [
      "      id       Date           City  Temperature\n",
      "0  32208 2012-01-01  New York City         47.4\n",
      "1  32209 2012-01-02  New York City         42.9\n",
      "2  32210 2012-01-03  New York City         29.8\n",
      "3  32211 2012-01-04  New York City         19.1\n",
      "4  32212 2012-01-05  New York City         31.7\n"
     ]
    }
   ],
   "source": [
    "df = pd.read_csv('Homework2.csv', sep=';', parse_dates=['Date'], dayfirst=True)\n",
    "print(df.head(5))"
   ]
  },
  {
   "cell_type": "markdown",
   "metadata": {
    "id": "-W359rZD9J2u"
   },
   "source": [
    "### Задача 6\n",
    "\n",
    "Сохраните DataFrame из предыдущей задачи в файл `result3.xlsx`, при сохранении задайте листу имя `MySheet`.\n",
    "\n",
    "(Примечание: для указания имени листа в файле Excel как при чтении, так и при записи используется параметр `sheet_name`.)"
   ]
  },
  {
   "cell_type": "code",
   "execution_count": 9,
   "metadata": {
    "id": "88sZHxWv9J2v"
   },
   "outputs": [],
   "source": [
    "df.to_excel('result3.xlsx', sheet_name='MySheet')"
   ]
  },
  {
   "cell_type": "markdown",
   "metadata": {
    "id": "c2d_HZ8F9J2x"
   },
   "source": [
    "### Задача 7\n",
    "\n",
    "Загрузите содержимое файла `Homework3.xlsx` в DataFrame, отформатируйте столбец с датой (`Date`) и приведите его к стандартизированному виду. Выведите первые пять строк DataFrame на экран.\n",
    "\n",
    "После этого в следующей ячейке сохраните полученный DataFrame в этот же файл, в лист с названием `MySheet`. При сохранении передайте в функцию сохранения параметр `index` c булевым значением `False`, чтобы не сохранять столбец-индекс.\n",
    "\n",
    "Затем откройте файл `Homework3.xlsx` с помощью Excel или аналога и посмотрите, сколько листов сейчас содержит этот файл. Ответ запишите в секции `### YOUR COMMENTS HERE ###` под блоками для кода."
   ]
  },
  {
   "cell_type": "code",
   "execution_count": 10,
   "metadata": {
    "id": "jc6HDN0T9J2x"
   },
   "outputs": [
    {
     "name": "stdout",
     "output_type": "stream",
     "text": [
      "      id       Date           City  Temperature\n",
      "0  32208 2012-01-01  New York City         47.4\n",
      "1  32209 2012-01-02  New York City         42.9\n",
      "2  32210 2012-01-03  New York City         29.8\n",
      "3  32211 2012-01-04  New York City         19.1\n",
      "4  32212 2012-01-05  New York City         31.7\n"
     ]
    }
   ],
   "source": [
    "df = pd.read_excel('Homework3.xlsx', parse_dates=['Date'])\n",
    "print(df.head())"
   ]
  },
  {
   "cell_type": "code",
   "execution_count": 12,
   "metadata": {
    "id": "sXAstror9J2z"
   },
   "outputs": [],
   "source": [
    "df.to_excel('Homework3.xlsx', sheet_name='MySheet', index=False)"
   ]
  },
  {
   "cell_type": "markdown",
   "metadata": {
    "id": "EdPpkCwP9J22"
   },
   "source": [
    "1"
   ]
  },
  {
   "cell_type": "markdown",
   "metadata": {
    "id": "yBb6Imck9J23"
   },
   "source": [
    "### Задача 8\n",
    "\n",
    "Загрузите содержимое файлов `Homework1.csv` и `Homework4.csv` в разные датафреймы (DataFrame), выведите первые пять строк каждого датафрейма на экран. После этого объедините датафреймы по столбцу `id` с использованием метода `merge`, выведите первые пять строк объединённого датафрейма на экран и запишите объединённый датафрейм в файл `result4.csv`, указав в качестве разделителя точку с запятой `;`."
   ]
  },
  {
   "cell_type": "code",
   "execution_count": 13,
   "metadata": {
    "id": "goFcjL689J23"
   },
   "outputs": [
    {
     "name": "stdout",
     "output_type": "stream",
     "text": [
      "      id        Date           City  Temperature\n",
      "0  32208  01.01.2012  New York City         47.4\n",
      "1  32209  02.01.2012  New York City         42.9\n",
      "2  32210  03.01.2012  New York City         29.8\n",
      "3  32211  04.01.2012  New York City         19.1\n",
      "4  32212  05.01.2012  New York City         31.7\n"
     ]
    }
   ],
   "source": [
    "df1 = pd.read_csv('Homework1.csv')\n",
    "print(df1.head())"
   ]
  },
  {
   "cell_type": "code",
   "execution_count": 14,
   "metadata": {
    "id": "F0g565uP9J25"
   },
   "outputs": [
    {
     "name": "stdout",
     "output_type": "stream",
     "text": [
      "      id        Date           City  Temperature\n",
      "0  32208  01.01.2012  New York City         47.4\n",
      "1  32209  02.01.2012  New York City         42.9\n",
      "2  32210  03.01.2012  New York City         29.8\n",
      "3  32211  04.01.2012  New York City         19.1\n",
      "4  32212  05.01.2012  New York City         31.7\n"
     ]
    }
   ],
   "source": [
    "df2 = pd.read_csv('Homework4.csv')\n",
    "print(df1.head())"
   ]
  },
  {
   "cell_type": "code",
   "execution_count": 15,
   "metadata": {
    "id": "UFZzPxRk9J27"
   },
   "outputs": [
    {
     "name": "stdout",
     "output_type": "stream",
     "text": [
      "      id        Date           City  Temperature  Sales\n",
      "0  32208  01.01.2012  New York City         47.4     36\n",
      "1  32209  02.01.2012  New York City         42.9     34\n",
      "2  32210  03.01.2012  New York City         29.8     40\n",
      "3  32211  04.01.2012  New York City         19.1     35\n",
      "4  32212  05.01.2012  New York City         31.7     48\n"
     ]
    }
   ],
   "source": [
    "df_merge = df1.merge(df2, on=['id'], how='outer')\n",
    "print(df_merge.head())"
   ]
  },
  {
   "cell_type": "code",
   "execution_count": 16,
   "metadata": {
    "id": "c7adGIJJ9J2_"
   },
   "outputs": [],
   "source": [
    "df_merge.to_csv('result4.csv', sep=';', index=False)"
   ]
  },
  {
   "cell_type": "markdown",
   "metadata": {
    "id": "oS0_c7Uz9J3B"
   },
   "source": [
    "## Дополнительные (необязательные) задачи\n",
    "\n",
    "### Задача 9\n",
    "\n",
    "Загрузите содержимое файлов `Homework2.csv` и `Homework5.xlsx` в разные датафреймы (DataFrame), при этом в каждом датафрейме отформатируйте столбец с датой (`Date`) и приведите его к стандартизированному виду. После этого выведите первые пять строк каждого датафрейма на экран. Затем объедините датафреймы по столбцу `Date` с использованием метода `merge`, выведите первые пять строк объединённого датафрейма на экран и запишите объединённый датафрейм в файл `result5.csv`, указав в качестве разделителя символ табуляции `\\t`."
   ]
  },
  {
   "cell_type": "code",
   "execution_count": 17,
   "metadata": {
    "id": "Bt7ucuc_9J3C"
   },
   "outputs": [
    {
     "name": "stdout",
     "output_type": "stream",
     "text": [
      "      id       Date           City  Temperature\n",
      "0  32208 2012-01-01  New York City         47.4\n",
      "1  32209 2012-01-02  New York City         42.9\n",
      "2  32210 2012-01-03  New York City         29.8\n",
      "3  32211 2012-01-04  New York City         19.1\n",
      "4  32212 2012-01-05  New York City         31.7\n"
     ]
    }
   ],
   "source": [
    "df3 = pd.read_csv('Homework2.csv', sep=';', parse_dates=['Date'], dayfirst=True)\n",
    "print(df3.head())"
   ]
  },
  {
   "cell_type": "code",
   "execution_count": 18,
   "metadata": {
    "id": "H0DhY_TZ9J3E"
   },
   "outputs": [
    {
     "name": "stdout",
     "output_type": "stream",
     "text": [
      "        Date  Sales\n",
      "0 2012-01-01     36\n",
      "1 2012-01-02     34\n",
      "2 2012-01-03     40\n",
      "3 2012-01-04     35\n",
      "4 2012-01-05     48\n"
     ]
    }
   ],
   "source": [
    "df4 = pd.read_excel('Homework5.xlsx', parse_dates=['Date'])\n",
    "print(df4.head())"
   ]
  },
  {
   "cell_type": "code",
   "execution_count": 19,
   "metadata": {
    "id": "HyoM-BTI9J3H"
   },
   "outputs": [
    {
     "name": "stdout",
     "output_type": "stream",
     "text": [
      "      id       Date           City  Temperature  Sales\n",
      "0  32208 2012-01-01  New York City         47.4     36\n",
      "1  32209 2012-01-02  New York City         42.9     34\n",
      "2  32210 2012-01-03  New York City         29.8     40\n",
      "3  32211 2012-01-04  New York City         19.1     35\n",
      "4  32212 2012-01-05  New York City         31.7     48\n"
     ]
    }
   ],
   "source": [
    "df_merge1 = df3.merge(df4, on=['Date'], how='outer')\n",
    "print(df_merge1.head())"
   ]
  },
  {
   "cell_type": "code",
   "execution_count": 20,
   "metadata": {
    "id": "PtBizxda9J3J"
   },
   "outputs": [],
   "source": [
    "df_merge1.to_csv('result5.csv', sep='\\t', index=False)"
   ]
  },
  {
   "cell_type": "markdown",
   "metadata": {
    "id": "pR3e-0Ip9J3M"
   },
   "source": [
    "### Задача 10\n",
    "\n",
    "Вы могли заметить, что столбец `Temperature` всех предыдущих датафреймов содержит достаточно высокое значение. Это потому, что данные по температуре приведены для города Нью-Йорк, а в США принято измерять температуру в градусах Фаренгейта, а не Цельсия. Для перевода температуры из градусов Фаренгейта в градусы Цельсия используется следующая формула:\n",
    "\n",
    "$$\n",
    "T_C = (T_F-32)\\times5/9,\n",
    "$$\n",
    "\n",
    "где $T_F$ — температура в градусах Фаренгейта, а $T_C$ — температура в градусах Цельсия.\n",
    "\n",
    "Используя приведённую формулу, добавьте в объединённый датафрейм из предыдущей задачи новый столбец `Temperature_C`, содержащий температуру в градусах Цельсия. Данные по температуре в градусах Фаренгейта приведены в столбце `Temperature`. Полученный датафрейм сохраните в файл `result6.csv`."
   ]
  },
  {
   "cell_type": "code",
   "execution_count": 22,
   "metadata": {
    "id": "alj_4jOT9J3N"
   },
   "outputs": [
    {
     "name": "stdout",
     "output_type": "stream",
     "text": [
      "      id       Date           City  Temperature  Sales  Temperature_C\n",
      "0  32208 2012-01-01  New York City         47.4     36           8.56\n",
      "1  32209 2012-01-02  New York City         42.9     34           6.06\n",
      "2  32210 2012-01-03  New York City         29.8     40          -1.22\n",
      "3  32211 2012-01-04  New York City         19.1     35          -7.17\n",
      "4  32212 2012-01-05  New York City         31.7     48          -0.17\n"
     ]
    }
   ],
   "source": [
    "df_merge1['Temperature_C'] = round(((df_merge1['Temperature'] - 32) * 5 / 9), 2)\n",
    "print(df_merge1.head())\n",
    "df_merge1.to_csv('result6.csv', sep=';', index=False)\n"
   ]
  },
  {
   "cell_type": "markdown",
   "metadata": {
    "id": "RUJSa9th9J3P"
   },
   "source": [
    "### Задача 11\n",
    "\n",
    "Используя объединённый датафрейм из предыдущей задачи, постройте график Scatter зависимости продаж (столбец `Sales`) от температуры (столбец `Temperature_C`) с помощью библиотеки Matplotlib. Попробуйте сделать предположение о зависимости продаж от температуры. Как вы думаете, продажи какого товара приведены в датафрейме? Почему? (Ответ запишите в блоке ### YOUR COMMENTS HERE ###.)"
   ]
  },
  {
   "cell_type": "code",
   "execution_count": 24,
   "metadata": {
    "id": "fTljePy-9J3Q"
   },
   "outputs": [
    {
     "name": "stdout",
     "output_type": "stream",
     "text": [
      "      id        Date           City  Temperature  Sales  Temperature_C\n",
      "0  32208  2012-01-01  New York City         47.4     36           8.56\n",
      "1  32209  2012-01-02  New York City         42.9     34           6.06\n",
      "2  32210  2012-01-03  New York City         29.8     40          -1.22\n",
      "3  32211  2012-01-04  New York City         19.1     35          -7.17\n",
      "4  32212  2012-01-05  New York City         31.7     48          -0.17\n"
     ]
    },
    {
     "data": {
      "text/plain": [
       "<matplotlib.collections.PathCollection at 0x26e135203d0>"
      ]
     },
     "execution_count": 24,
     "metadata": {},
     "output_type": "execute_result"
    },
    {
     "data": {
      "image/png": "[encoded data removed]",
      "text/plain": [
       "<Figure size 640x480 with 1 Axes>"
      ]
     },
     "metadata": {},
     "output_type": "display_data"
    }
   ],
   "source": [
    "data = pd.read_csv('result6.csv', sep=';')\n",
    "print(data.head())\n",
    "plt.xlabel('Sales')\n",
    "plt.ylabel('Temperature_C')\n",
    "plt.scatter(x=data['Sales'], y=data['Temperature_C'])"
   ]
  },
  {
   "cell_type": "markdown",
   "metadata": {
    "id": "NR5HApYS9J3S"
   },
   "source": [
    "\\### YOUR COMMENTS HERE ###"
   ]
  }
 ],
 "metadata": {
  "colab": {
   "provenance": []
  },
  "kernelspec": {
   "display_name": "Python 3 (ipykernel)",
   "language": "python",
   "name": "python3"
  },
  "language_info": {
   "codemirror_mode": {
    "name": "ipython",
    "version": 3
   },
   "file_extension": ".py",
   "mimetype": "text/x-python",
   "name": "python",
   "nbconvert_exporter": "python",
   "pygments_lexer": "ipython3",
   "version": "3.10.9"
  }
 },
 "nbformat": 4,
 "nbformat_minor": 1
}
